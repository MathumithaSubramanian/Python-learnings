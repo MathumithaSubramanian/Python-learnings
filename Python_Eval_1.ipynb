{
 "cells": [
  {
   "cell_type": "markdown",
   "metadata": {},
   "source": [
    "### Question 1"
   ]
  },
  {
   "cell_type": "markdown",
   "metadata": {},
   "source": [
    "##### Get a mark from the user as input and calculate the letter grade for the mark scored and also Pass/Fail/Distinction"
   ]
  },
  {
   "cell_type": "markdown",
   "metadata": {},
   "source": [
    "#### Conditions:\n",
    "\n",
    "1. Marks above 25 is considered as pass and below them is fail\n",
    "2. Between 26 and 35 -> Grade 'E'\n",
    "3. Between 36 and 50 -> Grade 'D'\n",
    "4. Between 51 and 60 -> Grade 'C'\n",
    "5. Between 61 and 75 -> Grade 'B'\n",
    "6. Between 76 and 95 -> Grade 'A'\n",
    "7. Between 96 and 99 -> Grade 'A+'\n",
    "8. Marks 100 -> Grade 'Distinction - O'"
   ]
  },
  {
   "cell_type": "markdown",
   "metadata": {},
   "source": [
    "#### Sample input: 26\n",
    "#### Sample Output : Pass\n",
    "####                              E"
   ]
  },
  {
   "cell_type": "code",
   "execution_count": 6,
   "metadata": {
    "ExecuteTime": {
     "end_time": "2022-12-10T16:38:20.785902Z",
     "start_time": "2022-12-10T16:38:20.780949Z"
    }
   },
   "outputs": [
    {
     "name": "stdout",
     "output_type": "stream",
     "text": [
      "Pass\n",
      "E\n"
     ]
    }
   ],
   "source": [
    "mark=int(input())\n",
    "if (mark>25 and mark<100):\n",
    "    print(\"Pass\")\n",
    "    if mark>=26 and mark<=35:\n",
    "        print(\"E\")\n",
    "    elif mark>=36 and mark<=50:\n",
    "        print(\"D\")\n",
    "    elif mark>=51 and mark<=60:\n",
    "        print(\"C\")\n",
    "    elif mark>=61 and mark<=75:\n",
    "        print(\"B\")\n",
    "    elif mark>=76 and mark<=95:\n",
    "        print(\"A\")\n",
    "    elif mark>=96 and mark<=99:\n",
    "        print(\"A+\")\n",
    "elif mark==100:\n",
    "    print(\"Distinction O\")\n",
    "else:\n",
    "    print(\"Fail\")\n",
    "       "
   ]
  },
  {
   "cell_type": "markdown",
   "metadata": {},
   "source": [
    "### Question 2"
   ]
  },
  {
   "attachments": {},
   "cell_type": "markdown",
   "metadata": {},
   "source": [
    "#### Get a number as an input from user (It can also be a decimal number). Calculate the square of the number given as input. When the result is above 100, print \"Maximum Limit Reached\". \n",
    "##### Constraints: The input number cannot be more than 250"
   ]
  },
  {
   "cell_type": "code",
   "execution_count": 34,
   "metadata": {
    "ExecuteTime": {
     "end_time": "2022-12-10T16:41:14.936056Z",
     "start_time": "2022-12-10T16:41:14.932202Z"
    }
   },
   "outputs": [
    {
     "name": "stdout",
     "output_type": "stream",
     "text": [
      "Number cannot be more than 250\n"
     ]
    }
   ],
   "source": [
    "number=float(input())\n",
    "if number<=250:\n",
    "  squ=pow(number,2)\n",
    "  print(squ)\n",
    "  if squ>100:\n",
    "      print(\"Maximum Limit Reached\")\n",
    "else:\n",
    "  print(\"Number cannot be more than 250\")"
   ]
  },
  {
   "cell_type": "markdown",
   "metadata": {},
   "source": [
    "### Question 3"
   ]
  },
  {
   "cell_type": "markdown",
   "metadata": {},
   "source": [
    "#### Get two numbers as input from user. If both the numbers are below 10, you shoud add the two numbers. If both the numbers are above 10, Calculate the product of two numbers. \n",
    "##### Constraints: Identify the exceptions/cases that can rise apart from the above given scenarios"
   ]
  },
  {
   "cell_type": "code",
   "execution_count": 38,
   "metadata": {
    "ExecuteTime": {
     "end_time": "2022-12-10T16:45:11.490991Z",
     "start_time": "2022-12-10T16:45:11.487147Z"
    }
   },
   "outputs": [
    {
     "name": "stdout",
     "output_type": "stream",
     "text": [
      "Both numbers are fall in different category\n"
     ]
    }
   ],
   "source": [
    "number1=int(input())\n",
    "number2=int(input())\n",
    "if(number1<=10 and number2<=10):\n",
    "    add=number1+number2\n",
    "    print(add)\n",
    "elif(number1>10 and number2>10):\n",
    "    prd=number1*number2\n",
    "    print(prd)\n",
    "else:\n",
    "  print(\"Both numbers are fall in diff category\")\n",
    "  "
   ]
  },
  {
   "cell_type": "markdown",
   "metadata": {},
   "source": [
    "### Question 4"
   ]
  },
  {
   "cell_type": "markdown",
   "metadata": {},
   "source": [
    "#### Consider the below list \"a\". Get a string input from user. Check whether the string is in the list \"a\". If the string is present in the list, print \"Alphabet Present\", else print \"Not Found\""
   ]
  },
  {
   "cell_type": "code",
   "execution_count": 43,
   "metadata": {
    "ExecuteTime": {
     "end_time": "2022-12-10T16:47:31.530335Z",
     "start_time": "2022-12-10T16:47:31.525667Z"
    }
   },
   "outputs": [],
   "source": [
    "a = [\"A\",\"B\", \"C\", \"D\", \"E\"]"
   ]
  },
  {
   "cell_type": "code",
   "execution_count": 45,
   "metadata": {
    "ExecuteTime": {
     "end_time": "2022-12-10T16:47:38.106288Z",
     "start_time": "2022-12-10T16:47:38.102510Z"
    }
   },
   "outputs": [
    {
     "name": "stdout",
     "output_type": "stream",
     "text": [
      "Not Found\n"
     ]
    }
   ],
   "source": [
    "string=str(input())\n",
    "for i in string:\n",
    "  if i in a:\n",
    "      print(\"Alphabet Present\")\n",
    "  else:\n",
    "    print(\"Not Found\")\n"
   ]
  },
  {
   "cell_type": "markdown",
   "metadata": {},
   "source": [
    "### Question 5"
   ]
  },
  {
   "cell_type": "markdown",
   "metadata": {},
   "source": [
    "#### The list of movies that has expired is given in the expired data given below. The \"Status\" column usually has only \"Yes\" as value, since all the movies are expired. Check the \"Status\" column, If there is \"No\" in the column, print the \"MovieID\" and \"MovieName\". \n",
    "\n",
    "The data is given as a dictionary. Please convert this as a dataframe and solve the problem\n",
    "\n",
    "##### Note: Please convert the \"Status\" column as a list"
   ]
  },
  {
   "cell_type": "code",
   "execution_count": null,
   "metadata": {
    "ExecuteTime": {
     "end_time": "2022-12-10T16:53:10.252560Z",
     "start_time": "2022-12-10T16:53:10.246506Z"
    }
   },
   "outputs": [],
   "source": [
    "dictionary = {\n",
    "    \"MovieID\" : ['A12', 'B23', 'C34', 'D45'],\n",
    "    \"MovieName\" : ['MOV1', 'MOV2', 'MOV3', 'MOV4'],\n",
    "    \"Status\" : ['Yes', 'Yes', 'No', 'Yes']\n",
    "}"
   ]
  },
  {
   "cell_type": "code",
   "execution_count": 18,
   "metadata": {
    "ExecuteTime": {
     "end_time": "2022-12-10T16:53:21.242835Z",
     "start_time": "2022-12-10T16:53:21.238710Z"
    }
   },
   "outputs": [
    {
     "ename": "ModuleNotFoundError",
     "evalue": "No module named 'pandas'",
     "output_type": "error",
     "traceback": [
      "\u001b[1;31m---------------------------------------------------------------------------\u001b[0m",
      "\u001b[1;31mModuleNotFoundError\u001b[0m                       Traceback (most recent call last)",
      "Cell \u001b[1;32mIn[18], line 1\u001b[0m\n\u001b[1;32m----> 1\u001b[0m \u001b[39mimport\u001b[39;00m \u001b[39mpandas\u001b[39;00m \u001b[39mas\u001b[39;00m \u001b[39mpd\u001b[39;00m\n\u001b[0;32m      2\u001b[0m df\u001b[39m=\u001b[39mpd\u001b[39m.\u001b[39mDataFrame\u001b[39m.\u001b[39mfrom_dict(dictionary)\n\u001b[0;32m      3\u001b[0m res\u001b[39m=\u001b[39mdf[df[\u001b[39m'\u001b[39m\u001b[39mStatus\u001b[39m\u001b[39m'\u001b[39m]\u001b[39m==\u001b[39m\u001b[39m\"\u001b[39m\u001b[39mNo\u001b[39m\u001b[39m\"\u001b[39m]\n",
      "\u001b[1;31mModuleNotFoundError\u001b[0m: No module named 'pandas'"
     ]
    }
   ],
   "source": [
    "import pandas as pd\n",
    "df=pd.DataFrame.from_dict(dictionary)\n",
    "res=df[df['Status']==\"No\"]\n",
    "print(res)"
   ]
  },
  {
   "cell_type": "code",
   "execution_count": null,
   "metadata": {},
   "outputs": [],
   "source": []
  },
  {
   "cell_type": "code",
   "execution_count": null,
   "metadata": {},
   "outputs": [],
   "source": []
  },
  {
   "cell_type": "markdown",
   "metadata": {},
   "source": [
    "## Python List - Questions"
   ]
  },
  {
   "cell_type": "markdown",
   "metadata": {},
   "source": [
    "#### Consider the below list named 'list1' and answer the below questions"
   ]
  },
  {
   "cell_type": "code",
   "execution_count": 3,
   "metadata": {
    "ExecuteTime": {
     "end_time": "2022-12-10T16:54:52.709001Z",
     "start_time": "2022-12-10T16:54:52.703926Z"
    }
   },
   "outputs": [],
   "source": [
    "list1 = [1,2,3,4,5]"
   ]
  },
  {
   "cell_type": "markdown",
   "metadata": {},
   "source": [
    "#### Print the 1st number of the list"
   ]
  },
  {
   "cell_type": "code",
   "execution_count": 5,
   "metadata": {},
   "outputs": [
    {
     "data": {
      "text/plain": [
       "1"
      ]
     },
     "execution_count": 5,
     "metadata": {},
     "output_type": "execute_result"
    }
   ],
   "source": [
    "list1[0]"
   ]
  },
  {
   "cell_type": "markdown",
   "metadata": {},
   "source": [
    "#### Print all elements after index 2"
   ]
  },
  {
   "cell_type": "code",
   "execution_count": 7,
   "metadata": {},
   "outputs": [
    {
     "data": {
      "text/plain": [
       "[4, 5]"
      ]
     },
     "execution_count": 7,
     "metadata": {},
     "output_type": "execute_result"
    }
   ],
   "source": [
    "list1[3:]"
   ]
  },
  {
   "cell_type": "markdown",
   "metadata": {},
   "source": [
    "#### Print last element of the list"
   ]
  },
  {
   "cell_type": "code",
   "execution_count": 4,
   "metadata": {},
   "outputs": [
    {
     "data": {
      "text/plain": [
       "5"
      ]
     },
     "execution_count": 4,
     "metadata": {},
     "output_type": "execute_result"
    }
   ],
   "source": [
    "list1[-1]"
   ]
  },
  {
   "cell_type": "markdown",
   "metadata": {},
   "source": [
    "#### print last three elements of the list"
   ]
  },
  {
   "cell_type": "code",
   "execution_count": 11,
   "metadata": {},
   "outputs": [
    {
     "data": {
      "text/plain": [
       "[3, 4, 5]"
      ]
     },
     "execution_count": 11,
     "metadata": {},
     "output_type": "execute_result"
    }
   ],
   "source": [
    "list1[-3:]"
   ]
  },
  {
   "cell_type": "markdown",
   "metadata": {},
   "source": [
    "#### add a number '7' to the list"
   ]
  },
  {
   "cell_type": "code",
   "execution_count": 17,
   "metadata": {},
   "outputs": [
    {
     "name": "stdout",
     "output_type": "stream",
     "text": [
      "[1, 2, 3, 4, 5, 7]\n"
     ]
    }
   ],
   "source": [
    "list1.append(7)\n",
    "print(list1)\n"
   ]
  },
  {
   "cell_type": "markdown",
   "metadata": {},
   "source": [
    "## Python Dict - Questions"
   ]
  },
  {
   "cell_type": "markdown",
   "metadata": {},
   "source": [
    "#### Consider the below dictionary and answer the following questions"
   ]
  },
  {
   "cell_type": "code",
   "execution_count": 21,
   "metadata": {
    "ExecuteTime": {
     "end_time": "2022-12-10T16:58:34.998077Z",
     "start_time": "2022-12-10T16:58:34.993189Z"
    }
   },
   "outputs": [],
   "source": [
    "sample = {\n",
    "    'A' : 2,\n",
    "    'B' : 3,\n",
    "    'C' : 4\n",
    "}"
   ]
  },
  {
   "cell_type": "markdown",
   "metadata": {},
   "source": [
    "#### Print all the keys of the dictionary"
   ]
  },
  {
   "cell_type": "code",
   "execution_count": 22,
   "metadata": {},
   "outputs": [
    {
     "name": "stdout",
     "output_type": "stream",
     "text": [
      "A\n",
      "B\n",
      "C\n"
     ]
    }
   ],
   "source": [
    "for x in sample.keys():\n",
    "    print(x)"
   ]
  },
  {
   "cell_type": "markdown",
   "metadata": {},
   "source": [
    "#### Get the value of \"B\" from the dictionary"
   ]
  },
  {
   "cell_type": "code",
   "execution_count": 23,
   "metadata": {},
   "outputs": [
    {
     "data": {
      "text/plain": [
       "3"
      ]
     },
     "execution_count": 23,
     "metadata": {},
     "output_type": "execute_result"
    }
   ],
   "source": [
    "sample['B']"
   ]
  },
  {
   "cell_type": "markdown",
   "metadata": {},
   "source": [
    "#### Add a new element called \"D\" to the dictionary and assign [1,4,5,8] as value to it."
   ]
  },
  {
   "cell_type": "code",
   "execution_count": 27,
   "metadata": {},
   "outputs": [],
   "source": [
    "sample.update({\"D\":[1,4,5,8]})\n"
   ]
  },
  {
   "cell_type": "markdown",
   "metadata": {},
   "source": []
  },
  {
   "cell_type": "code",
   "execution_count": 28,
   "metadata": {},
   "outputs": [
    {
     "name": "stdout",
     "output_type": "stream",
     "text": [
      "{'A': 2, 'B': 3, 'C': 4, 'D': [1, 4, 5, 8]}\n"
     ]
    }
   ],
   "source": [
    "print(sample)"
   ]
  },
  {
   "cell_type": "code",
   "execution_count": null,
   "metadata": {},
   "outputs": [],
   "source": []
  }
 ],
 "metadata": {
  "kernelspec": {
   "display_name": "Python 3",
   "language": "python",
   "name": "python3"
  },
  "language_info": {
   "codemirror_mode": {
    "name": "ipython",
    "version": 3
   },
   "file_extension": ".py",
   "mimetype": "text/x-python",
   "name": "python",
   "nbconvert_exporter": "python",
   "pygments_lexer": "ipython3",
   "version": "3.10.9 (tags/v3.10.9:1dd9be6, Dec  6 2022, 20:01:21) [MSC v.1934 64 bit (AMD64)]"
  },
  "toc": {
   "base_numbering": 1,
   "nav_menu": {},
   "number_sections": false,
   "sideBar": true,
   "skip_h1_title": false,
   "title_cell": "Table of Contents",
   "title_sidebar": "Contents",
   "toc_cell": false,
   "toc_position": {},
   "toc_section_display": true,
   "toc_window_display": false
  },
  "vscode": {
   "interpreter": {
    "hash": "cb6005fed819b2f734edd29ca8aa9e1a6fc3fc4f1fdba67c49c0adc7e91a3d59"
   }
  }
 },
 "nbformat": 4,
 "nbformat_minor": 4
}
